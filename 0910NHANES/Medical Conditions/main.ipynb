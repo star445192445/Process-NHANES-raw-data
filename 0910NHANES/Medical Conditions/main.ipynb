{
 "cells": [
  {
   "cell_type": "code",
   "execution_count": 6,
   "metadata": {},
   "outputs": [],
   "source": [
    "### MCQ300A      #近亲心脏病\n",
    "### MCQ300C      #近亲糖尿病\n",
    "### MCQ220       #是否有被告知有癌症\n",
    "### MCQ160C      #是否有冠心病   #1有 2没有\n",
    "### MCQ160F      #中风          #1有 2没有\n",
    "\n",
    "import pandas as pd\n",
    "import numpy as np"
   ]
  },
  {
   "cell_type": "code",
   "execution_count": 7,
   "metadata": {},
   "outputs": [],
   "source": [
    "medical_conditions_df = pd.read_sas('E:/work/Paper/NHANES/0910Analysis Data/Medical Conditions/MCQ_F.XPT')"
   ]
  },
  {
   "cell_type": "code",
   "execution_count": 8,
   "metadata": {},
   "outputs": [
    {
     "name": "stderr",
     "output_type": "stream",
     "text": [
      "C:\\Users\\Star\\AppData\\Local\\Temp\\ipykernel_24044\\1566789621.py:10: FutureWarning: A value is trying to be set on a copy of a DataFrame or Series through chained assignment using an inplace method.\n",
      "The behavior will change in pandas 3.0. This inplace method will never work because the intermediate object on which we are setting values always behaves as a copy.\n",
      "\n",
      "For example, when doing 'df[col].method(value, inplace=True)', try using 'df.method({col: value}, inplace=True)' or df[col] = df[col].method(value) instead, to perform the operation inplace on the original object.\n",
      "\n",
      "\n",
      "  medical_conditions_extract_df['MCQ300A'].replace([7,9], np.nan, inplace=True)\n",
      "C:\\Users\\Star\\AppData\\Local\\Temp\\ipykernel_24044\\1566789621.py:10: SettingWithCopyWarning: \n",
      "A value is trying to be set on a copy of a slice from a DataFrame\n",
      "\n",
      "See the caveats in the documentation: https://pandas.pydata.org/pandas-docs/stable/user_guide/indexing.html#returning-a-view-versus-a-copy\n",
      "  medical_conditions_extract_df['MCQ300A'].replace([7,9], np.nan, inplace=True)\n",
      "C:\\Users\\Star\\AppData\\Local\\Temp\\ipykernel_24044\\1566789621.py:11: FutureWarning: A value is trying to be set on a copy of a DataFrame or Series through chained assignment using an inplace method.\n",
      "The behavior will change in pandas 3.0. This inplace method will never work because the intermediate object on which we are setting values always behaves as a copy.\n",
      "\n",
      "For example, when doing 'df[col].method(value, inplace=True)', try using 'df.method({col: value}, inplace=True)' or df[col] = df[col].method(value) instead, to perform the operation inplace on the original object.\n",
      "\n",
      "\n",
      "  medical_conditions_extract_df['MCQ300C'].replace([7,9], np.nan, inplace=True)\n",
      "C:\\Users\\Star\\AppData\\Local\\Temp\\ipykernel_24044\\1566789621.py:11: SettingWithCopyWarning: \n",
      "A value is trying to be set on a copy of a slice from a DataFrame\n",
      "\n",
      "See the caveats in the documentation: https://pandas.pydata.org/pandas-docs/stable/user_guide/indexing.html#returning-a-view-versus-a-copy\n",
      "  medical_conditions_extract_df['MCQ300C'].replace([7,9], np.nan, inplace=True)\n",
      "C:\\Users\\Star\\AppData\\Local\\Temp\\ipykernel_24044\\1566789621.py:12: FutureWarning: A value is trying to be set on a copy of a DataFrame or Series through chained assignment using an inplace method.\n",
      "The behavior will change in pandas 3.0. This inplace method will never work because the intermediate object on which we are setting values always behaves as a copy.\n",
      "\n",
      "For example, when doing 'df[col].method(value, inplace=True)', try using 'df.method({col: value}, inplace=True)' or df[col] = df[col].method(value) instead, to perform the operation inplace on the original object.\n",
      "\n",
      "\n",
      "  medical_conditions_extract_df['MCQ220'].replace([7,9], np.nan, inplace=True)\n",
      "C:\\Users\\Star\\AppData\\Local\\Temp\\ipykernel_24044\\1566789621.py:12: SettingWithCopyWarning: \n",
      "A value is trying to be set on a copy of a slice from a DataFrame\n",
      "\n",
      "See the caveats in the documentation: https://pandas.pydata.org/pandas-docs/stable/user_guide/indexing.html#returning-a-view-versus-a-copy\n",
      "  medical_conditions_extract_df['MCQ220'].replace([7,9], np.nan, inplace=True)\n"
     ]
    }
   ],
   "source": [
    "medical_conditions_extract_features = [\n",
    "    'SEQN',\n",
    "    'MCQ300A',      #近亲心脏病\n",
    "    'MCQ300C',      #近亲糖尿病\n",
    "    'MCQ220',       #癌症\n",
    "    'MCQ160C',      #冠心病\n",
    "    'MCQ160F',      #中风\n",
    "]\n",
    "medical_conditions_extract_df = medical_conditions_df[medical_conditions_extract_features]\n",
    "medical_conditions_extract_df['MCQ300A'].replace([7,9], np.nan, inplace=True)\n",
    "medical_conditions_extract_df['MCQ300C'].replace([7,9], np.nan, inplace=True)\n",
    "medical_conditions_extract_df['MCQ220'].replace([7,9], np.nan, inplace=True)"
   ]
  },
  {
   "cell_type": "code",
   "execution_count": 9,
   "metadata": {},
   "outputs": [],
   "source": [
    "medical_conditions_extract_df.to_excel('E:/work/Paper/NHANES/0910Analysis Data/Final data/medical_conditions.xlsx')"
   ]
  }
 ],
 "metadata": {
  "kernelspec": {
   "display_name": "Python 3",
   "language": "python",
   "name": "python3"
  },
  "language_info": {
   "codemirror_mode": {
    "name": "ipython",
    "version": 3
   },
   "file_extension": ".py",
   "mimetype": "text/x-python",
   "name": "python",
   "nbconvert_exporter": "python",
   "pygments_lexer": "ipython3",
   "version": "3.12.4"
  }
 },
 "nbformat": 4,
 "nbformat_minor": 2
}
