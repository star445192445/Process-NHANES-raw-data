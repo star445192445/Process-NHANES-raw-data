{
 "cells": [
  {
   "cell_type": "code",
   "execution_count": 1,
   "metadata": {},
   "outputs": [],
   "source": [
    "# PHQ-9\n",
    "### mental level    精神状况评级 0-3\n",
    "import pandas as pd\n",
    "\n"
   ]
  },
  {
   "cell_type": "code",
   "execution_count": 2,
   "metadata": {},
   "outputs": [],
   "source": [
    "mental_health_df = pd.read_sas('E:/work/Paper/NHANES/0910Analysis Data/Mental Health/DPQ_F.XPT')\n",
    "\n",
    "# 丢掉缺失数据\n",
    "mental_health_df.dropna(axis=0, inplace=True)\n",
    "mental_health_df = mental_health_df.astype('int')\n",
    "\n",
    "# #丢掉7|9答案的数据\n",
    "drop_index = mental_health_df[\n",
    "    (mental_health_df['DPQ010'] == 9)| (mental_health_df['DPQ020'] == 9)|(mental_health_df['DPQ030'] == 9)|(mental_health_df['DPQ040'] == 9)\n",
    "    |(mental_health_df['DPQ050'] == 9)|(mental_health_df['DPQ060'] == 9)|(mental_health_df['DPQ070'] == 9)|(mental_health_df['DPQ080'] == 9)\n",
    "    |(mental_health_df['DPQ090'] == 9)\n",
    "                 ].index\n",
    "\n",
    "drop_index.append(mental_health_df[\n",
    "    (mental_health_df['DPQ010'] == 7)| (mental_health_df['DPQ020'] == 7)|(mental_health_df['DPQ030'] == 7)|(mental_health_df['DPQ040'] == 7)\n",
    "    |(mental_health_df['DPQ050'] == 7)|(mental_health_df['DPQ060'] == 7)|(mental_health_df['DPQ070'] == 7)|(mental_health_df['DPQ080'] == 7)\n",
    "    |(mental_health_df['DPQ090'] == 7)\n",
    "                 ].index)\n",
    "\n",
    "mental_health_df.drop(drop_index, inplace=True)\n",
    "mental_health_df.drop('DPQ100', inplace=True, axis=1)"
   ]
  },
  {
   "cell_type": "code",
   "execution_count": 3,
   "metadata": {},
   "outputs": [],
   "source": [
    "SEQN_index_df = mental_health_df.set_index('SEQN')\n",
    "SEQN_index_df['score'] = SEQN_index_df.sum(axis=1)\n",
    "\n",
    "level_list = []\n",
    "for i in SEQN_index_df['score'].tolist():\n",
    "    if i <= 4 :\n",
    "        level = 0\n",
    "    elif i<=9 :\n",
    "        level = 1\n",
    "    elif i<= 14:\n",
    "        level = 2\n",
    "    elif i > 15 :\n",
    "        level = 3\n",
    "    level_list.append(level)\n",
    "\n",
    "SEQN_index_df['mental_level'] = level_list"
   ]
  },
  {
   "cell_type": "code",
   "execution_count": 4,
   "metadata": {},
   "outputs": [],
   "source": [
    "mental_health_evaluate_df = SEQN_index_df.reset_index(drop=False)"
   ]
  },
  {
   "cell_type": "code",
   "execution_count": 5,
   "metadata": {},
   "outputs": [],
   "source": [
    "mental_health_evaluate_df.to_excel('E:/work/Paper/NHANES/0910Analysis Data/Final data/mental_health_level.xlsx')"
   ]
  }
 ],
 "metadata": {
  "kernelspec": {
   "display_name": "Python 3",
   "language": "python",
   "name": "python3"
  },
  "language_info": {
   "codemirror_mode": {
    "name": "ipython",
    "version": 3
   },
   "file_extension": ".py",
   "mimetype": "text/x-python",
   "name": "python",
   "nbconvert_exporter": "python",
   "pygments_lexer": "ipython3",
   "version": "3.9.13"
  }
 },
 "nbformat": 4,
 "nbformat_minor": 2
}
