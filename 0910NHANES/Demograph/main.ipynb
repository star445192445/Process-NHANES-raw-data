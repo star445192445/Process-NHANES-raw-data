{
 "cells": [
  {
   "cell_type": "code",
   "execution_count": 1,
   "metadata": {},
   "outputs": [],
   "source": [
    "# 基本口人学\n",
    "### 'RIDAGEYR',     年龄\n",
    "### 'RIDRETH1',     种族\n",
    "### 'DMDEDUC2',     教育水平\n",
    "### 'INDFMPIR',     家庭年收入与贫困线的比值\n",
    "\n",
    "import pandas as pd\n",
    "import numpy as np"
   ]
  },
  {
   "cell_type": "code",
   "execution_count": 2,
   "metadata": {},
   "outputs": [],
   "source": [
    "demo_df = pd.read_sas('E:/work/Paper/NHANES/0910Analysis Data/Demograph/DEMO_F.XPT')"
   ]
  },
  {
   "cell_type": "code",
   "execution_count": 3,
   "metadata": {},
   "outputs": [
    {
     "name": "stderr",
     "output_type": "stream",
     "text": [
      "C:\\Users\\Gstar\\AppData\\Local\\Temp\\ipykernel_21804\\2110356473.py:11: SettingWithCopyWarning: \n",
      "A value is trying to be set on a copy of a slice from a DataFrame\n",
      "\n",
      "See the caveats in the documentation: https://pandas.pydata.org/pandas-docs/stable/user_guide/indexing.html#returning-a-view-versus-a-copy\n",
      "  demo_extract_df['DMDEDUC2'].replace([7,9], np.nan, inplace=True)\n"
     ]
    }
   ],
   "source": [
    "demo_extract_features = [\n",
    "    'SEQN',         #编码\n",
    "    'RIDAGEYR',     #年龄\n",
    "    'RIAGENDR',     #性别\n",
    "    'RIDRETH1',     #种族\n",
    "    'DMDEDUC2',     #教育水平\n",
    "    'INDFMPIR',     #家庭年收入与贫困线的比值\n",
    "]\n",
    "\n",
    "demo_extract_df = demo_df[demo_extract_features]\n",
    "demo_extract_df['DMDEDUC2'].replace([7,9], np.nan, inplace=True)"
   ]
  },
  {
   "cell_type": "code",
   "execution_count": 4,
   "metadata": {},
   "outputs": [],
   "source": [
    "demo_extract_df.to_excel('E:/work/Paper/NHANES/0910Analysis Data/Final data/demographic.xlsx')"
   ]
  }
 ],
 "metadata": {
  "kernelspec": {
   "display_name": "Python 3",
   "language": "python",
   "name": "python3"
  },
  "language_info": {
   "codemirror_mode": {
    "name": "ipython",
    "version": 3
   },
   "file_extension": ".py",
   "mimetype": "text/x-python",
   "name": "python",
   "nbconvert_exporter": "python",
   "pygments_lexer": "ipython3",
   "version": "3.9.13"
  }
 },
 "nbformat": 4,
 "nbformat_minor": 2
}
