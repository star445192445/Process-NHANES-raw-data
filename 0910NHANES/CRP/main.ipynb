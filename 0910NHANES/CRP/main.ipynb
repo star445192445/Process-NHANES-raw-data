{
 "cells": [
  {
   "cell_type": "code",
   "execution_count": 1,
   "metadata": {},
   "outputs": [],
   "source": [
    "### LBXCRP    #C反应蛋白(mg/dl)\n",
    "import pandas as pd\n",
    "import numpy as np"
   ]
  },
  {
   "cell_type": "code",
   "execution_count": 2,
   "metadata": {},
   "outputs": [],
   "source": [
    "crp_df = pd.read_sas('E:/work/Paper/NHANES/0910Analysis Data/CRP/CRP_F.XPT')"
   ]
  },
  {
   "cell_type": "code",
   "execution_count": 3,
   "metadata": {},
   "outputs": [],
   "source": [
    "crp_extract_features = [\n",
    "    'SEQN',\n",
    "    'LBXCRP',    #C反应蛋白(mg/dl)\n",
    "]\n",
    "crp_extract_df = crp_df[crp_extract_features]"
   ]
  },
  {
   "cell_type": "code",
   "execution_count": 4,
   "metadata": {},
   "outputs": [],
   "source": [
    "crp_extract_df.to_excel('E:/work/Paper/NHANES/0910Analysis Data/Final data/crp.xlsx')"
   ]
  }
 ],
 "metadata": {
  "kernelspec": {
   "display_name": "Python 3",
   "language": "python",
   "name": "python3"
  },
  "language_info": {
   "codemirror_mode": {
    "name": "ipython",
    "version": 3
   },
   "file_extension": ".py",
   "mimetype": "text/x-python",
   "name": "python",
   "nbconvert_exporter": "python",
   "pygments_lexer": "ipython3",
   "version": "3.9.13"
  }
 },
 "nbformat": 4,
 "nbformat_minor": 2
}
