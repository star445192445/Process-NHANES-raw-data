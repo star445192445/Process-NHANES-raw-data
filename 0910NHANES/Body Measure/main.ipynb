{
 "cells": [
  {
   "cell_type": "code",
   "execution_count": 1,
   "metadata": {},
   "outputs": [],
   "source": [
    "# BMXBMI    BMI\n",
    "import pandas as pd"
   ]
  },
  {
   "cell_type": "code",
   "execution_count": 2,
   "metadata": {},
   "outputs": [],
   "source": [
    "body_measure_df = pd.read_sas('E:/work/Paper/NHANES/0910Analysis Data/Body Measure/BMX_F.XPT')"
   ]
  },
  {
   "cell_type": "code",
   "execution_count": 3,
   "metadata": {},
   "outputs": [],
   "source": [
    "body_measure_extract_features = [\n",
    "    'SEQN',         \n",
    "    'BMXBMI',       #BMI\n",
    "]\n",
    "\n",
    "body_measure_extract_df = body_measure_df[body_measure_extract_features]"
   ]
  },
  {
   "cell_type": "code",
   "execution_count": 4,
   "metadata": {},
   "outputs": [],
   "source": [
    "body_measure_extract_df.to_excel('E:/work/Paper/NHANES/0910Analysis Data/Final data/body_measure.xlsx')"
   ]
  },
  {
   "cell_type": "code",
   "execution_count": 5,
   "metadata": {},
   "outputs": [
    {
     "name": "stdout",
     "output_type": "stream",
     "text": [
      "<class 'pandas.core.frame.DataFrame'>\n",
      "RangeIndex: 10253 entries, 0 to 10252\n",
      "Data columns (total 2 columns):\n",
      " #   Column  Non-Null Count  Dtype  \n",
      "---  ------  --------------  -----  \n",
      " 0   SEQN    10253 non-null  float64\n",
      " 1   BMXBMI  9412 non-null   float64\n",
      "dtypes: float64(2)\n",
      "memory usage: 160.3 KB\n"
     ]
    }
   ],
   "source": [
    "body_measure_extract_df.info()"
   ]
  }
 ],
 "metadata": {
  "kernelspec": {
   "display_name": "Python 3",
   "language": "python",
   "name": "python3"
  },
  "language_info": {
   "codemirror_mode": {
    "name": "ipython",
    "version": 3
   },
   "file_extension": ".py",
   "mimetype": "text/x-python",
   "name": "python",
   "nbconvert_exporter": "python",
   "pygments_lexer": "ipython3",
   "version": "3.9.13"
  }
 },
 "nbformat": 4,
 "nbformat_minor": 2
}
