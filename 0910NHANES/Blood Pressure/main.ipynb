{
 "cells": [
  {
   "cell_type": "code",
   "execution_count": 1,
   "metadata": {},
   "outputs": [],
   "source": [
    "# 判断是否有高血压\n",
    "### 如果自己报告有 或者 血压测量有  均认为有高血压\n",
    "# SEQN    编码\n",
    "# BPQ020  自我报告高血压 1有； 2没有； NAN缺失\n",
    "# BPXSY1  BPXSY2  BPXSY3  三次收缩压\n",
    "# BPXDI1  BPXDI2  BPXDI3  三次舒张压\n",
    "# systolic blood\t   收缩压平均值\n",
    "# diastoloc blood\t   舒张压平均值\n",
    "# hypertension_level  是否有高血压 1有 0没有 NA 缺失\n",
    "\n",
    "import pandas as pd\n",
    "import numpy as np"
   ]
  },
  {
   "cell_type": "code",
   "execution_count": 2,
   "metadata": {},
   "outputs": [
    {
     "name": "stderr",
     "output_type": "stream",
     "text": [
      "C:\\Users\\Gstar\\AppData\\Local\\Temp\\ipykernel_8992\\1947466226.py:9: SettingWithCopyWarning: \n",
      "A value is trying to be set on a copy of a slice from a DataFrame\n",
      "\n",
      "See the caveats in the documentation: https://pandas.pydata.org/pandas-docs/stable/user_guide/indexing.html#returning-a-view-versus-a-copy\n",
      "  blood_pressure_extract_df['BPQ020'].replace([7,9], np.nan, inplace=True)\n"
     ]
    }
   ],
   "source": [
    "# 获取自我报告是否高血压的数据 - blood_pressure_extract_df\n",
    "blood_pressure_questionnaire_df = pd.read_sas('E:/work/Paper/NHANES/0910Analysis Data/Blood Pressure/BPQ_F.XPT')\n",
    "\n",
    "blood_pressure_extract_features = [\n",
    "    'SEQN',             \n",
    "    'BPQ020',           #是否有人告知高血压\n",
    "]\n",
    "blood_pressure_extract_df = blood_pressure_questionnaire_df[blood_pressure_extract_features]\n",
    "blood_pressure_extract_df['BPQ020'].replace([7,9], np.nan, inplace=True)"
   ]
  },
  {
   "cell_type": "code",
   "execution_count": 3,
   "metadata": {},
   "outputs": [
    {
     "name": "stderr",
     "output_type": "stream",
     "text": [
      "C:\\Users\\Gstar\\AppData\\Local\\Temp\\ipykernel_8992\\1033929468.py:13: SettingWithCopyWarning: \n",
      "A value is trying to be set on a copy of a slice from a DataFrame.\n",
      "Try using .loc[row_indexer,col_indexer] = value instead\n",
      "\n",
      "See the caveats in the documentation: https://pandas.pydata.org/pandas-docs/stable/user_guide/indexing.html#returning-a-view-versus-a-copy\n",
      "  blood_pressure_examination_extract_df['systolic blood'] = blood_pressure_examination_extract_df.loc[:,['BPXSY1','BPXSY2','BPXSY3']].mean(axis=1)    #计算平均收缩压\n",
      "C:\\Users\\Gstar\\AppData\\Local\\Temp\\ipykernel_8992\\1033929468.py:14: SettingWithCopyWarning: \n",
      "A value is trying to be set on a copy of a slice from a DataFrame.\n",
      "Try using .loc[row_indexer,col_indexer] = value instead\n",
      "\n",
      "See the caveats in the documentation: https://pandas.pydata.org/pandas-docs/stable/user_guide/indexing.html#returning-a-view-versus-a-copy\n",
      "  blood_pressure_examination_extract_df['diastoloc blood'] = blood_pressure_examination_extract_df.loc[:,['BPXDI1','BPXDI2','BPXDI3']].mean(axis=1)   #计算平均舒张压\n"
     ]
    }
   ],
   "source": [
    "# 获取测量血压的数据 - blood_pressure_examination_extract_df\n",
    "blood_pressure_examination_df = pd.read_sas('E:/work/Paper/NHANES/0910Analysis Data/Blood Pressure/BPX_F.XPT')\n",
    "blood_pressure_examination_extract_features = [\n",
    "    'SEQN',     #编码\n",
    "    'BPXSY1',   #收1\n",
    "    'BPXSY2',   #收2\n",
    "    'BPXSY3',   #收3\n",
    "    'BPXDI1',   #舒1\n",
    "    'BPXDI2',   #舒2\n",
    "    'BPXDI3',   #舒3\n",
    "]\n",
    "blood_pressure_examination_extract_df = blood_pressure_examination_df[blood_pressure_examination_extract_features]\n",
    "blood_pressure_examination_extract_df['systolic blood'] = blood_pressure_examination_extract_df.loc[:,['BPXSY1','BPXSY2','BPXSY3']].mean(axis=1)    #计算平均收缩压\n",
    "blood_pressure_examination_extract_df['diastoloc blood'] = blood_pressure_examination_extract_df.loc[:,['BPXDI1','BPXDI2','BPXDI3']].mean(axis=1)   #计算平均舒张压"
   ]
  },
  {
   "cell_type": "code",
   "execution_count": 4,
   "metadata": {},
   "outputs": [],
   "source": [
    "# 将两者数据合并 - hypertension_df\n",
    "hypertension_df = pd.merge(left=blood_pressure_extract_df, right=blood_pressure_examination_extract_df, on='SEQN', how='outer')"
   ]
  },
  {
   "cell_type": "code",
   "execution_count": 5,
   "metadata": {},
   "outputs": [],
   "source": [
    "# 判断是否高血压\n",
    "def judge_hypertension(x):\n",
    "    if x['BPQ020'] == 1:\n",
    "        judge = 1\n",
    "    elif pd.isna(x['BPQ020']):\n",
    "        if pd.isna(x['systolic blood']) | (pd.isna(x['diastoloc blood'])):\n",
    "            judge = np.nan\n",
    "        else:\n",
    "            if (x['systolic blood'] > 140) | (x['diastoloc blood'] > 90):\n",
    "                judge = 1\n",
    "            else:\n",
    "                judge = 0\n",
    "    else:\n",
    "        if (x['systolic blood'] > 140) | (x['diastoloc blood'] > 90):\n",
    "            judge = 1\n",
    "        else:\n",
    "            judge = 0\n",
    "    return judge\n",
    "\n",
    "hypertension_df['hypertension_level'] = hypertension_df.apply(judge_hypertension, axis=1)"
   ]
  },
  {
   "cell_type": "code",
   "execution_count": 6,
   "metadata": {},
   "outputs": [],
   "source": [
    "hypertension_df.to_excel('E:/work/Paper/NHANES/0910Analysis Data/Final data/blood_pressure.xlsx')"
   ]
  }
 ],
 "metadata": {
  "kernelspec": {
   "display_name": "Python 3",
   "language": "python",
   "name": "python3"
  },
  "language_info": {
   "codemirror_mode": {
    "name": "ipython",
    "version": 3
   },
   "file_extension": ".py",
   "mimetype": "text/x-python",
   "name": "python",
   "nbconvert_exporter": "python",
   "pygments_lexer": "ipython3",
   "version": "3.9.13"
  }
 },
 "nbformat": 4,
 "nbformat_minor": 2
}
