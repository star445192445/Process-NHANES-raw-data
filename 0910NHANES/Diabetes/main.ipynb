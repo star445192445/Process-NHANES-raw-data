{
 "cells": [
  {
   "cell_type": "code",
   "execution_count": 1,
   "metadata": {},
   "outputs": [],
   "source": [
    "# 判断是否有糖尿病\n",
    "# 自我报告或者根据空腹血糖和oggt实验得出\n",
    "### DIQ010          自我报告是否有糖尿病\n",
    "### LBDGLUSI        空腹血糖\n",
    "### LBDGLTSI        oggt2小时血糖\n",
    "### diabetes_level  糖尿病等级  0没有 1有 2糖尿病前期\n",
    "\n",
    "import pandas as pd\n",
    "import numpy as np"
   ]
  },
  {
   "cell_type": "code",
   "execution_count": 2,
   "metadata": {},
   "outputs": [
    {
     "name": "stderr",
     "output_type": "stream",
     "text": [
      "C:\\Users\\Gstar\\AppData\\Local\\Temp\\ipykernel_15740\\2510475123.py:8: SettingWithCopyWarning: \n",
      "A value is trying to be set on a copy of a slice from a DataFrame\n",
      "\n",
      "See the caveats in the documentation: https://pandas.pydata.org/pandas-docs/stable/user_guide/indexing.html#returning-a-view-versus-a-copy\n",
      "  diabetes_extract_df['DIQ010'].replace([7,9], np.nan, inplace=True)\n"
     ]
    }
   ],
   "source": [
    "# 提取自我报告是否有糖尿病的数据 - diabetes_extract_df\n",
    "diabetes_df = pd.read_sas('E:/work/Paper/NHANES/0910Analysis Data/Diabetes/DIQ_F.XPT')\n",
    "diabetes_extract_features = [\n",
    "    'SEQN',\n",
    "    'DIQ010',           #是否有糖尿病\n",
    "]\n",
    "diabetes_extract_df = diabetes_df[diabetes_extract_features]\n",
    "diabetes_extract_df['DIQ010'].replace([7,9], np.nan, inplace=True)"
   ]
  },
  {
   "cell_type": "code",
   "execution_count": 3,
   "metadata": {},
   "outputs": [],
   "source": [
    "# 提取oggt的血糖结果 - ogtt_extract_df\n",
    "ogtt_df = pd.read_sas('E:/work/Paper/NHANES/0910Analysis Data/Diabetes/OGTT_F.XPT')\n",
    "\n",
    "ogtt_extract_features = [\n",
    "    'SEQN',\n",
    "    'LBDGLTSI',         #两小时血糖(mmol/L)\n",
    "]\n",
    "ogtt_extract_df = ogtt_df[ogtt_extract_features]"
   ]
  },
  {
   "cell_type": "code",
   "execution_count": 4,
   "metadata": {},
   "outputs": [],
   "source": [
    "# 提取空腹血糖的数据 - fasting_glucose_df\n",
    "fasting_glucose_df = pd.read_sas('E:/work/Paper/NHANES/0910Analysis Data/Diabetes/GLU_F.XPT')\n",
    "\n",
    "fasting_glucose_extract_features = [\n",
    "    'SEQN',\n",
    "    'LBDGLUSI',   #空腹血糖(mmol/L)\n",
    "]\n",
    "fasting_glucose_extract_df = fasting_glucose_df[fasting_glucose_extract_features]"
   ]
  },
  {
   "cell_type": "code",
   "execution_count": 5,
   "metadata": {},
   "outputs": [],
   "source": [
    "# 合并上述数据 - diabetes_df\n",
    "diabetes_df = pd.merge(left=fasting_glucose_extract_df, right=ogtt_extract_df, on='SEQN', how='outer')\n",
    "diabetes_df = pd.merge(left=diabetes_extract_df, right=diabetes_df, on='SEQN', how='outer')"
   ]
  },
  {
   "cell_type": "code",
   "execution_count": 6,
   "metadata": {},
   "outputs": [],
   "source": [
    "# 判断糖尿病\n",
    "### 0 没有\n",
    "### 1 有\n",
    "### 2 糖尿病前期\n",
    "def judge_diabetes(x):\n",
    "    if x['DIQ010'] == 1:\n",
    "        judge = 1\n",
    "    elif (pd.isna(x['DIQ010'])) | (x['DIQ010']==9 )| (x['DIQ010']== 7):\n",
    "        if pd.isna(x['LBDGLUSI']) | (pd.isna(x['LBDGLTSI'])):\n",
    "            judge = pd.NA\n",
    "        else:\n",
    "            if (x['LBDGLUSI'] < 6.1) | (x['LBDGLTSI'] < 7.8):\n",
    "                judge = 0\n",
    "            elif (6.1 < x['LBDGLUSI'] < 6.9) | (x['LBDGLTSI'] < 7.8):\n",
    "                judge = 2   #糖尿病前期\n",
    "            elif (x['LBDGLUSI'] < 7) | (7.8 < x['LBDGLTSI'] < 11.0):\n",
    "                judge = 2   #糖尿病前期\n",
    "            elif (x['LBDGLUSI'] >= 7) | (7.8 < x['LBDGLTSI'] >= 11.1):\n",
    "                judge = 1\n",
    "    else:\n",
    "        if x['DIQ010'] == 2:\n",
    "            judge = 0\n",
    "        elif x['DIQ010'] == 3:\n",
    "            judge = 2\n",
    "        if (x['LBDGLUSI'] < 6.1) | (x['LBDGLTSI'] < 7.8):\n",
    "            judge = 0\n",
    "        elif (6.1 < x['LBDGLUSI'] < 6.9) | (x['LBDGLTSI'] < 7.8):\n",
    "            judge = 2   #糖尿病前期\n",
    "        elif (x['LBDGLUSI'] < 7) | (7.8 < x['LBDGLTSI'] < 11.0):\n",
    "            judge = 2   #糖尿病前期\n",
    "        elif (x['LBDGLUSI'] >= 7) | (7.8 < x['LBDGLTSI'] >= 11.1):\n",
    "            judge = 1\n",
    "    return judge\n",
    "\n",
    "diabetes_df['diabetes_level'] = diabetes_df.apply(judge_diabetes, axis=1)"
   ]
  },
  {
   "cell_type": "code",
   "execution_count": 7,
   "metadata": {},
   "outputs": [],
   "source": [
    "diabetes_df.to_excel('E:/work/Paper/NHANES/0910Analysis Data/Final data/diabetes.xlsx')"
   ]
  }
 ],
 "metadata": {
  "kernelspec": {
   "display_name": "Python 3",
   "language": "python",
   "name": "python3"
  },
  "language_info": {
   "codemirror_mode": {
    "name": "ipython",
    "version": 3
   },
   "file_extension": ".py",
   "mimetype": "text/x-python",
   "name": "python",
   "nbconvert_exporter": "python",
   "pygments_lexer": "ipython3",
   "version": "3.9.13"
  }
 },
 "nbformat": 4,
 "nbformat_minor": 2
}
