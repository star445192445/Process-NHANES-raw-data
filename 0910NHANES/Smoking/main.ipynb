{
 "cells": [
  {
   "cell_type": "code",
   "execution_count": 1,
   "metadata": {},
   "outputs": [],
   "source": [
    "# smoking_status    0 不抽烟 1 已经戒烟 2抽烟\n",
    "import pandas as pd\n",
    "import numpy as np"
   ]
  },
  {
   "cell_type": "code",
   "execution_count": 2,
   "metadata": {},
   "outputs": [],
   "source": [
    "smoking = pd.read_sas('E:/work/Paper/NHANES/0910Analysis Data/Smoking/SMQ_F.XPT')\n",
    "smoking_extract_features = [\n",
    "    'SEQN',\n",
    "    'SMQ020',   #是否抽过100支烟\n",
    "    'SMQ040',   #现在是否还抽烟\n",
    "]\n",
    "smoking_extract_df = smoking[smoking_extract_features]\n",
    "# smoking_extract_df = smoking_extract_df.replace()"
   ]
  },
  {
   "cell_type": "code",
   "execution_count": 3,
   "metadata": {},
   "outputs": [
    {
     "name": "stderr",
     "output_type": "stream",
     "text": [
      "C:\\Users\\Gstar\\AppData\\Local\\Temp\\ipykernel_25040\\365709700.py:12: SettingWithCopyWarning: \n",
      "A value is trying to be set on a copy of a slice from a DataFrame.\n",
      "Try using .loc[row_indexer,col_indexer] = value instead\n",
      "\n",
      "See the caveats in the documentation: https://pandas.pydata.org/pandas-docs/stable/user_guide/indexing.html#returning-a-view-versus-a-copy\n",
      "  smoking_extract_df['smoking_status'] = smoking_extract_df.apply(is_smoking, axis=1)\n"
     ]
    }
   ],
   "source": [
    "def is_smoking(x):\n",
    "    if x['SMQ020'] == 2:\n",
    "        result = 0\n",
    "    else:\n",
    "        if x['SMQ040'] == 3:\n",
    "            result = 1\n",
    "        elif (x['SMQ040'] == 1) | (x['SMQ040'] == 2):\n",
    "            result = 2\n",
    "        else:\n",
    "            result = np.nan \n",
    "    return result\n",
    "smoking_extract_df['smoking_status'] = smoking_extract_df.apply(is_smoking, axis=1)"
   ]
  },
  {
   "cell_type": "code",
   "execution_count": 4,
   "metadata": {},
   "outputs": [],
   "source": [
    "smoking_extract_df.to_excel('E:/work/Paper/NHANES/0910Analysis Data/Final data/smoking_status.xlsx')\n"
   ]
  }
 ],
 "metadata": {
  "kernelspec": {
   "display_name": "Python 3",
   "language": "python",
   "name": "python3"
  },
  "language_info": {
   "codemirror_mode": {
    "name": "ipython",
    "version": 3
   },
   "file_extension": ".py",
   "mimetype": "text/x-python",
   "name": "python",
   "nbconvert_exporter": "python",
   "pygments_lexer": "ipython3",
   "version": "3.9.13"
  }
 },
 "nbformat": 4,
 "nbformat_minor": 2
}
