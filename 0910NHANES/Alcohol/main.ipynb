{
 "cells": [
  {
   "cell_type": "code",
   "execution_count": 1,
   "metadata": {},
   "outputs": [],
   "source": [
    "# drinks    平均每天摄入酒精g\n",
    "\n",
    "import pandas as pd\n",
    "import numpy as np\n"
   ]
  },
  {
   "cell_type": "code",
   "execution_count": 2,
   "metadata": {},
   "outputs": [],
   "source": [
    "alcohol_use = pd.read_sas('E:/work/Paper/NHANES/0910Analysis Data/Alcohol/ALQ_F.XPT')"
   ]
  },
  {
   "cell_type": "code",
   "execution_count": 3,
   "metadata": {},
   "outputs": [],
   "source": [
    "alcohol_use_extract_features = [\n",
    "    'SEQN',\n",
    "    'ALQ120Q',  #饮酒频率\n",
    "    'ALQ120U',  #单位\n",
    "    'ALQ130',   #饮酒杯数\n",
    "    'ALQ101'\n",
    "]\n",
    "alcohol_use_extract_df = alcohol_use.loc[:,alcohol_use_extract_features]\n",
    "alcohol_use_extract_df = alcohol_use_extract_df.replace([777,999,7,9], np.nan)"
   ]
  },
  {
   "cell_type": "code",
   "execution_count": 4,
   "metadata": {},
   "outputs": [],
   "source": [
    "def calculate_alcohol(x):\n",
    "    if x['ALQ101'] == 2:\n",
    "        drinks = 0\n",
    "    else:\n",
    "        num = x['ALQ120Q'] * x['ALQ120U']\n",
    "        if x['ALQ120U'] == 1:\n",
    "            num = num*52\n",
    "        elif x['ALQ120U'] == 2:\n",
    "            num = num*12\n",
    "        elif x['ALQ120U'] == 3:\n",
    "            num = num*1\n",
    "        drinks = num*x['ALQ130'] / 365\n",
    "    return drinks*14\n",
    "alcohol_use_extract_df['drinks'] = alcohol_use_extract_df.apply(calculate_alcohol, axis=1)"
   ]
  },
  {
   "cell_type": "code",
   "execution_count": 5,
   "metadata": {},
   "outputs": [
    {
     "data": {
      "text/plain": [
       "1713"
      ]
     },
     "execution_count": 5,
     "metadata": {},
     "output_type": "execute_result"
    }
   ],
   "source": [
    "sum(pd.isna(alcohol_use_extract_df['drinks']))"
   ]
  },
  {
   "cell_type": "code",
   "execution_count": 6,
   "metadata": {},
   "outputs": [],
   "source": [
    "alcohol_use_df = alcohol_use_extract_df.loc[:,['SEQN','drinks']]"
   ]
  },
  {
   "cell_type": "code",
   "execution_count": 7,
   "metadata": {},
   "outputs": [],
   "source": [
    "alcohol_use_df.to_excel('E:/work/Paper/NHANES/0910Analysis Data/Final data/alcohol_use.xlsx')"
   ]
  }
 ],
 "metadata": {
  "kernelspec": {
   "display_name": "Python 3",
   "language": "python",
   "name": "python3"
  },
  "language_info": {
   "codemirror_mode": {
    "name": "ipython",
    "version": 3
   },
   "file_extension": ".py",
   "mimetype": "text/x-python",
   "name": "python",
   "nbconvert_exporter": "python",
   "pygments_lexer": "ipython3",
   "version": "3.9.13"
  }
 },
 "nbformat": 4,
 "nbformat_minor": 2
}
