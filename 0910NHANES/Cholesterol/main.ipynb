{
 "cells": [
  {
   "cell_type": "code",
   "execution_count": 1,
   "metadata": {},
   "outputs": [],
   "source": [
    "# LBDHDDSI\t    高密度脂蛋白\n",
    "# LBDTCSI       总胆固醇\n",
    "# non_HDL       非高密度脂蛋白\n",
    "\n",
    "import pandas as pd\n",
    "import numpy as np"
   ]
  },
  {
   "cell_type": "code",
   "execution_count": 2,
   "metadata": {},
   "outputs": [],
   "source": [
    "# 高密度脂蛋白\n",
    "hdl_df = pd.read_sas('E:/work/Paper/NHANES/0910Analysis Data/Cholesterol/HDL_F.XPT')\n",
    "hdl_extract_features = [\n",
    "    'SEQN',\n",
    "    'LBDHDDSI',     #直接测量的高密度脂蛋白(mmol/L)\n",
    "]\n",
    "hdl_extract_df = hdl_df[hdl_extract_features]"
   ]
  },
  {
   "cell_type": "code",
   "execution_count": 3,
   "metadata": {},
   "outputs": [],
   "source": [
    "# 总胆固醇\n",
    "total_cholesterol_df = pd.read_sas('E:/work/Paper/NHANES/0910Analysis Data/Cholesterol/TCHOL_F.XPT')\n",
    "\n",
    "total_cholesterol_extract_features = [\n",
    "    'SEQN',\n",
    "    'LBDTCSI',      #胆固醇总量( mmol/L)\n",
    "]\n",
    "total_cholesterol_extract_df = total_cholesterol_df[total_cholesterol_extract_features]"
   ]
  },
  {
   "cell_type": "code",
   "execution_count": 4,
   "metadata": {},
   "outputs": [],
   "source": [
    "# 合并文件\n",
    "chelesterol_df = pd.merge(left=hdl_extract_df, right=total_cholesterol_extract_df, on='SEQN', how='outer')\n",
    "chelesterol_df['non_HDL'] = chelesterol_df['LBDTCSI'] - chelesterol_df['LBDHDDSI']"
   ]
  },
  {
   "cell_type": "code",
   "execution_count": 5,
   "metadata": {},
   "outputs": [],
   "source": [
    "chelesterol_df.to_excel('E:/work/Paper/NHANES/0910Analysis Data/Final data/chelesterol.xlsx')"
   ]
  }
 ],
 "metadata": {
  "kernelspec": {
   "display_name": "Python 3",
   "language": "python",
   "name": "python3"
  },
  "language_info": {
   "codemirror_mode": {
    "name": "ipython",
    "version": 3
   },
   "file_extension": ".py",
   "mimetype": "text/x-python",
   "name": "python",
   "nbconvert_exporter": "python",
   "pygments_lexer": "ipython3",
   "version": "3.9.13"
  }
 },
 "nbformat": 4,
 "nbformat_minor": 2
}
