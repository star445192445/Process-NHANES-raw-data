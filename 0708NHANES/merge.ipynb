{
 "cells": [
  {
   "cell_type": "code",
   "execution_count": 13,
   "metadata": {},
   "outputs": [],
   "source": [
    "#血压\n",
    "### SEQN    编码\n",
    "### BPQ020  自我报告高血压 1有； 2没有； NAN缺失\n",
    "### BPXSY1  BPXSY2  BPXSY3  三次收缩压\n",
    "### BPXDI1  BPXDI2  BPXDI3  三次舒张压\n",
    "### systolic blood\t   收缩压平均值\n",
    "### diastoloc blood\t   舒张压平均值\n",
    "### hypertension_level  是否有高血压 1有 0没有 NA 缺失\n",
    "\n",
    "# 身体测量\n",
    "### BMXBMI    BMI\n",
    "\n",
    "# 脂蛋白\n",
    "### LBDHDDSI\t    高密度脂蛋白\n",
    "### LBDTCSI       总胆固醇\n",
    "### non_HDL       非高密度脂蛋白\n",
    "\n",
    "# CRP\n",
    "### LBXCRP    C反应蛋白(mg/dl)\n",
    "\n",
    "# 基本口人学\n",
    "### 'RIDAGEYR'     年龄\n",
    "### 'RIDRETH1'     种族\n",
    "### 'RIAGENDR'     性别\n",
    "### 'DMDEDUC2'     教育水平\n",
    "### 'INDFMPIR'     家庭年收入与贫困线的比值\n",
    "\n",
    "# 糖尿病\n",
    "### DIQ010          自我报告是否有糖尿病\n",
    "### LBDGLUSI        空腹血糖\n",
    "### LBDGLTSI        oggt2小时血糖\n",
    "### diabetes_level  糖尿病等级  0没有 1有 2糖尿病前期\n",
    "\n",
    "#饮食\n",
    "### diet score  饮食评分\n",
    "\n",
    "# 近亲\n",
    "### MCQ300A      近亲心脏病\n",
    "### MCQ300C      近亲糖尿病\n",
    "\n",
    "# mental\n",
    "### mental level    精神状况评级 0-3\n",
    "\n",
    "# 死亡数据\n",
    "### eligstat        是否链接上  1.是    2.18岁以下\n",
    "### mortstat        生存状态    1.存活  2.死亡\n",
    "### ucod_leading    死亡原因    1.心脏病；2恶性肿瘤；3.慢性呼吸系统疾病；4.意外；5.脑血管疾病；6.阿尔兹海默症；7.糖尿病；8.流感和肺炎；9.肾病；10.其他原因\n",
    "### permth_int      从访谈到死亡的月数\n",
    "### permth_exm      从MEC到死亡的月数\n",
    "### follow_year     #随访年数\n",
    "\n",
    "# 运动\n",
    "###physical_level    运动等级\n",
    "###Sedentary_minutes   静坐时间-mins\n",
    "###equal minutes 体力活动等效时间\n",
    "# 睡眠\n",
    "### SLD010H 睡眠时长\n",
    "### sleep_level 睡眠时长评级  0不好；1一般；2良好\n",
    "\n",
    "# 饮酒\n",
    "### drinks  平均每天摄入酒精g\n",
    "\n",
    "# 吸烟\n",
    "### smoking_status    0 不抽烟 1 已经戒烟 2抽烟"
   ]
  },
  {
   "cell_type": "code",
   "execution_count": 33,
   "metadata": {},
   "outputs": [
    {
     "data": {
      "text/plain": [
       "1"
      ]
     },
     "execution_count": 33,
     "metadata": {},
     "output_type": "execute_result"
    }
   ],
   "source": [
    "lst = [1,2,3,4,5]\n",
    "lst.index(2)"
   ]
  },
  {
   "cell_type": "code",
   "execution_count": 14,
   "metadata": {},
   "outputs": [],
   "source": [
    "features = [\n",
    "    'SEQN',\n",
    "    'hypertension_level',   #是否有高血压 0没有 1有  NA 缺失\n",
    "    'BMXBMI',   #BMI\n",
    "    'non_HDL',  #非高密度脂蛋白\n",
    "    'LBXCRP',   #CRP\n",
    "    'RIDAGEYR', #年龄\n",
    "    'RIAGENDR', #性别\n",
    "    'RIDRETH1', #种族\n",
    "    'DMDEDUC2', #教育水平\n",
    "    'INDFMPIR', #收入与贫困线的比值\n",
    "    'diabetes_level',   #是否有糖尿病   0没有 1有 2糖尿病前期\n",
    "    'diet_score',   #饮食评分\n",
    "    'MCQ300A',  #近亲心脏病\n",
    "    'MCQ300C',  #近亲糖尿病\n",
    "    'mental_level', #精神状态0-3\n",
    "    'mortstat', #生存状态\n",
    "    'ucod_leading',  #死亡原因    1.心脏病；2恶性肿瘤；3.慢性呼吸系统疾病；4.意外；5.脑血管疾病；6.阿尔兹海默症；7.糖尿病；8.流感和肺炎；9.肾病；10.其他原因\n",
    "    'follow_year',   #随访年数\n",
    "    'physical_level',\n",
    "    'Sedentary_minutes',   \n",
    "    'sleep_level',  #睡眠时长评级  0不好；1一般；2良好\n",
    "    'drinks',\n",
    "    'smoking_status',\n",
    "    'equal minutes',\n",
    "\n",
    "    'LBXGH',        #糖化血红蛋白\n",
    "    'MCQ220',       #癌症\n",
    "    'MCQ160C',      #冠心病\n",
    "    'MCQ160F',      #中风\n",
    "]"
   ]
  },
  {
   "cell_type": "code",
   "execution_count": 15,
   "metadata": {},
   "outputs": [],
   "source": [
    "import pandas as pd"
   ]
  },
  {
   "cell_type": "code",
   "execution_count": 25,
   "metadata": {},
   "outputs": [],
   "source": [
    "# 血压数据\n",
    "hypertension = pd.read_excel('E:/work/Paper/NHANES/0708Analysis Data/Final data/blood_pressure.xlsx', index_col=0)\n",
    "# BMI\n",
    "body_measure = pd.read_excel('E:/work/Paper/NHANES/0708Analysis Data/Final data/body_measure.xlsx', index_col=0)\n",
    "# 非高密度脂蛋白\n",
    "chelesterol = pd.read_excel('E:/work/Paper/NHANES/0708Analysis Data/Final data/chelesterol.xlsx', index_col=0)\n",
    "# CRP\n",
    "crp = pd.read_excel('E:/work/Paper/NHANES/0708Analysis Data/Final data/crp.xlsx', index_col=0)\n",
    "# demo\n",
    "demographic = pd.read_excel('E:/work/Paper/NHANES/0708Analysis Data/Final data/demographic.xlsx', index_col=0)\n",
    "# 糖尿病\n",
    "diabetes = pd.read_excel('E:/work/Paper/NHANES/0708Analysis Data/Final data/diabetes.xlsx', index_col=0)\n",
    "# 饮食\n",
    "diet = pd.read_excel('E:/work/Paper/NHANES/0708Analysis Data/Final data/DGA_HEI_score.xlsx', index_col=0)\n",
    "# 近亲\n",
    "medical_conditions = pd.read_excel('E:/work/Paper/NHANES/0708Analysis Data/Final data/medical_conditions.xlsx', index_col=0)\n",
    "# 精神\n",
    "mental_health_evaluate = pd.read_excel('E:/work/Paper/NHANES/0708Analysis Data/Final data/mental_health_level.xlsx', index_col=0) \n",
    "# 死亡数据\n",
    "mortality = pd.read_excel('E:/work/Paper/NHANES/0708Analysis Data/Final data/mortality.xlsx', index_col=0)\n",
    "# 体力活动\n",
    "physical = pd.read_excel('E:/work/Paper/NHANES/0708Analysis Data/Final data/physical_level.xlsx', index_col=0)\n",
    "# 睡眠\n",
    "sleep = pd.read_excel('E:/work/Paper/NHANES/0708Analysis Data/Final data/sleep_level.xlsx', index_col=0)\n",
    "# 饮酒\n",
    "alcohol = pd.read_excel('E:/work/Paper/NHANES/0708Analysis Data/Final data/alcohol_use.xlsx', index_col=0)\n",
    "# 吸烟\n",
    "smoking = pd.read_excel('E:/work/Paper/NHANES/0708Analysis Data/Final data/smoking_status.xlsx', index_col=0)\n",
    "# 糖化血红蛋白\n",
    "hba1c = pd.read_excel('E:/work/Paper/NHANES/0708Analysis Data/Final data/glycohemoglobin.xlsx', index_col=0)\n"
   ]
  },
  {
   "cell_type": "code",
   "execution_count": 26,
   "metadata": {},
   "outputs": [],
   "source": [
    "merge_list = [\n",
    "    hypertension, \n",
    "    body_measure, \n",
    "    chelesterol, \n",
    "    crp, \n",
    "    demographic, \n",
    "    diabetes,\n",
    "    diet, \n",
    "    medical_conditions, \n",
    "    mental_health_evaluate, \n",
    "    physical,\n",
    "    sleep,\n",
    "    alcohol,\n",
    "    smoking,\n",
    "    hba1c\n",
    "  ]\n",
    "\n",
    "data = mortality\n",
    "for i in merge_list:\n",
    "    data = pd.merge(left=data, right=i, on='SEQN', how='outer')"
   ]
  },
  {
   "cell_type": "code",
   "execution_count": 27,
   "metadata": {},
   "outputs": [],
   "source": [
    "data_0708 = data[features]"
   ]
  },
  {
   "cell_type": "code",
   "execution_count": 28,
   "metadata": {},
   "outputs": [],
   "source": [
    "data_0708 = data_0708[pd.notna(data_0708['mortstat'])]"
   ]
  },
  {
   "cell_type": "code",
   "execution_count": 29,
   "metadata": {},
   "outputs": [
    {
     "data": {
      "text/plain": [
       "Index(['SEQN', 'hypertension_level', 'BMXBMI', 'non_HDL', 'LBXCRP', 'RIDAGEYR',\n",
       "       'RIAGENDR', 'RIDRETH1', 'DMDEDUC2', 'INDFMPIR', 'diabetes_level',\n",
       "       'diet_score', 'MCQ300A', 'MCQ300C', 'mental_level', 'mortstat',\n",
       "       'ucod_leading', 'follow_year', 'physical_level', 'Sedentary_minutes',\n",
       "       'sleep_level', 'drinks', 'smoking_status', 'equal minutes', 'LBXGH',\n",
       "       'MCQ220', 'MCQ160C', 'MCQ160F'],\n",
       "      dtype='object')"
      ]
     },
     "execution_count": 29,
     "metadata": {},
     "output_type": "execute_result"
    }
   ],
   "source": [
    "data_0708.columns"
   ]
  },
  {
   "cell_type": "code",
   "execution_count": 30,
   "metadata": {},
   "outputs": [
    {
     "data": {
      "text/plain": [
       "0        5.7\n",
       "2        9.5\n",
       "4        5.7\n",
       "6        NaN\n",
       "7        7.0\n",
       "        ... \n",
       "10143    5.6\n",
       "10144    5.3\n",
       "10145    5.4\n",
       "10147    4.8\n",
       "10148    5.4\n",
       "Name: LBXGH, Length: 6219, dtype: float64"
      ]
     },
     "execution_count": 30,
     "metadata": {},
     "output_type": "execute_result"
    }
   ],
   "source": [
    "data_0708['LBXGH']"
   ]
  },
  {
   "cell_type": "code",
   "execution_count": 31,
   "metadata": {},
   "outputs": [],
   "source": [
    "data_0708.to_excel('E:/work/Paper/NHANES/0708data.xlsx')"
   ]
  },
  {
   "cell_type": "code",
   "execution_count": 24,
   "metadata": {},
   "outputs": [
    {
     "data": {
      "text/plain": [
       "0       NaN\n",
       "2       NaN\n",
       "4       NaN\n",
       "6       NaN\n",
       "7       NaN\n",
       "         ..\n",
       "10143   NaN\n",
       "10144   NaN\n",
       "10145   NaN\n",
       "10147   NaN\n",
       "10148   NaN\n",
       "Name: LBXGH, Length: 6219, dtype: float64"
      ]
     },
     "execution_count": 24,
     "metadata": {},
     "output_type": "execute_result"
    }
   ],
   "source": [
    "data_0708['LBXGH']"
   ]
  },
  {
   "cell_type": "code",
   "execution_count": 23,
   "metadata": {},
   "outputs": [
    {
     "data": {
      "text/plain": [
       "count    6219.000000\n",
       "mean       10.978507\n",
       "std         2.714648\n",
       "min         0.000000\n",
       "25%        11.250000\n",
       "50%        11.833333\n",
       "75%        12.416667\n",
       "max        13.333333\n",
       "Name: follow_year, dtype: float64"
      ]
     },
     "execution_count": 23,
     "metadata": {},
     "output_type": "execute_result"
    }
   ],
   "source": [
    "data['follow_year'].describe()"
   ]
  }
 ],
 "metadata": {
  "kernelspec": {
   "display_name": "Python 3",
   "language": "python",
   "name": "python3"
  },
  "language_info": {
   "codemirror_mode": {
    "name": "ipython",
    "version": 3
   },
   "file_extension": ".py",
   "mimetype": "text/x-python",
   "name": "python",
   "nbconvert_exporter": "python",
   "pygments_lexer": "ipython3",
   "version": "3.12.4"
  }
 },
 "nbformat": 4,
 "nbformat_minor": 2
}
